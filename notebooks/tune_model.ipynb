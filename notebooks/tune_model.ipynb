{
 "cells": [
  {
   "cell_type": "code",
   "execution_count": 2,
   "metadata": {
    "ExecuteTime": {
     "end_time": "2020-12-14T07:57:17.512098Z",
     "start_time": "2020-12-14T07:57:17.508111Z"
    }
   },
   "outputs": [],
   "source": [
    "import os\n",
    "os.chdir('..')"
   ]
  },
  {
   "cell_type": "code",
   "execution_count": 3,
   "metadata": {
    "ExecuteTime": {
     "end_time": "2020-12-14T07:57:17.839000Z",
     "start_time": "2020-12-14T07:57:17.823098Z"
    }
   },
   "outputs": [
    {
     "data": {
      "text/plain": [
       "'C:\\\\Users\\\\gueganj\\\\Desktop\\\\Eyeglasses Detection'"
      ]
     },
     "execution_count": 3,
     "metadata": {},
     "output_type": "execute_result"
    }
   ],
   "source": [
    "os.getcwd()"
   ]
  },
  {
   "cell_type": "markdown",
   "metadata": {},
   "source": [
    "# Packages"
   ]
  },
  {
   "cell_type": "code",
   "execution_count": 4,
   "metadata": {
    "ExecuteTime": {
     "end_time": "2020-12-14T07:57:33.476156Z",
     "start_time": "2020-12-14T07:57:18.565188Z"
    }
   },
   "outputs": [],
   "source": [
    "import torch\n",
    "import torch.nn as nn\n",
    "import torch.optim as optim\n",
    "import random\n",
    "import os\n",
    "import glob\n",
    "import numpy as np\n",
    "from dataset import Dataset_SMP, get_preprocessing, split_data, get_training_augmentation\n",
    "import segmentation_models_pytorch as smp\n",
    "from ray import tune\n",
    "from ray.tune import CLIReporter, JupyterNotebookReporter\n",
    "from ray.tune.schedulers import ASHAScheduler\n",
    "from functools import partial\n",
    "import ray\n",
    "from models.bisenet import BiSeNet\n",
    "from models.densenet import FCDenseNet\n",
    "from models.hrnet import HighResolutionNet\n",
    "from models.config.hrnet import HRNet as cfg_HRNet\n",
    "def loguniform(a=0, b=1):\n",
    "    return np.exp(np.random.uniform(np.log(a), np.log(b)))"
   ]
  },
  {
   "cell_type": "code",
   "execution_count": 3,
   "metadata": {},
   "outputs": [],
   "source": [
    "device = torch.device(\"cuda:0\" if torch.cuda.is_available() else \"cpu\")"
   ]
  },
  {
   "cell_type": "code",
   "execution_count": 4,
   "metadata": {},
   "outputs": [],
   "source": [
    "torch.backends.cudnn.deterministic = True\n",
    "random.seed(123456)\n",
    "torch.manual_seed(123456)\n",
    "torch.cuda.manual_seed(123456)\n",
    "np.random.seed(123456)"
   ]
  },
  {
   "cell_type": "markdown",
   "metadata": {},
   "source": [
    "# Data"
   ]
  },
  {
   "cell_type": "code",
   "execution_count": 31,
   "metadata": {},
   "outputs": [],
   "source": [
    "data_root    = \"C:\\\\Users\\\\gueganj\\\\Desktop\\\\My_Database\\\\nature\\\\\"\n",
    "num_epochs   = 150\n",
    "input_size   = [544,960]\n",
    "size_dataset = 118\n",
    "landmarks_dir = False\n",
    "threshold = 0.5"
   ]
  },
  {
   "cell_type": "code",
   "execution_count": 32,
   "metadata": {},
   "outputs": [
    {
     "name": "stdout",
     "output_type": "stream",
     "text": [
      "TOTAL : 136  images -  52  personnes\n",
      "train : 106  images -  41  personnes\n",
      "valid : 13  images -  5  personnes\n",
      "test  : 17  images -  6  personnes\n"
     ]
    }
   ],
   "source": [
    "# path\n",
    "train_set, valid_set, test_set = split_data(data_root, \"images\", \".jpg\", \"masks\\\\frame\", \".png\", size_dataset, use_id=True)\n",
    "train_image, train_mask = train_set\n",
    "valid_image, valid_mask = valid_set\n",
    "test_image, test_mask   = test_set"
   ]
  },
  {
   "cell_type": "code",
   "execution_count": 33,
   "metadata": {},
   "outputs": [],
   "source": [
    "train_augmentation = get_training_augmentation()"
   ]
  },
  {
   "cell_type": "markdown",
   "metadata": {},
   "source": [
    "# Full Training Function"
   ]
  },
  {
   "cell_type": "code",
   "execution_count": 34,
   "metadata": {},
   "outputs": [],
   "source": [
    "def train_function(search_space, model=\"unet\", num_epochs=150, input_size=[544,960]):\n",
    "    # ============ SEARCH SPACE ============\n",
    "    # unload dictionnary\n",
    "    batch_size   = search_space['batch_size']\n",
    "    lr           = search_space['lr']\n",
    "    momentum     = search_space['momentum']\n",
    "    weight_decay = search_space['weight_decay']\n",
    "    nesterov     = search_space['nesterov']\n",
    "    # ============= MODEL =============\n",
    "    if model == \"BiseNet\":\n",
    "        model = BiSeNet(activation='sigmoid', n_classes=1)\n",
    "    elif model == \"DenseNet\":\n",
    "        model = FCDenseNet(activation='sigmoid', n_classes=1)\n",
    "    elif model == \"HRNet\":\n",
    "        model = HighResolutionNet(activation='sigmoid', n_classes=1, config=cfg_HRNet)\n",
    "    elif model == \"PSPNet\":\n",
    "        model = smp.PSPNet(activation='sigmoid', classes=1)\n",
    "    elif model == \"DeepLabV3Plus\":\n",
    "        model = smp.DeepLabV3Plus(activation='sigmoid', classes=1)\n",
    "    elif model == \"UnetPlusPlus\":\n",
    "        model = smp.UnetPlusPlus(activation='sigmoid', classes=1)\n",
    "        \n",
    "    preprocessing_fn = smp.encoders.get_preprocessing_fn('resnet18', 'imagenet')\n",
    "    model.to(device)\n",
    "    # ============= DATALOADER =============\n",
    "    train_dataset = Dataset_SMP(train_image, train_mask, input_size, train_augmentation, get_preprocessing(preprocessing_fn), landmarks_dir)\n",
    "    valid_dataset = Dataset_SMP(valid_image, valid_mask, input_size, None, get_preprocessing(preprocessing_fn), landmarks_dir)\n",
    "    train_loader  = torch.utils.data.DataLoader(train_dataset, batch_size=batch_size, shuffle=True, num_workers=0)\n",
    "    valid_loader  = torch.utils.data.DataLoader(valid_dataset, batch_size=batch_size, shuffle=True, num_workers=0)\n",
    "    # ============= OPTIMIZER =============\n",
    "    params_to_update = model.parameters() # change here if we want finetune only certain layer\n",
    "    optimizer = optim.SGD(params_to_update, lr=lr, momentum=momentum, weight_decay=weight_decay, nesterov=nesterov)\n",
    "    # ============= LOSS =============\n",
    "    loss    = smp.utils.losses.DiceLoss()\n",
    "    metrics = [smp.utils.metrics.IoU(threshold=threshold)]\n",
    "    # ============= TRAINING =============\n",
    "    # create epoch runners\n",
    "    train_epoch = smp.utils.train.TrainEpoch(model, loss=loss, metrics=metrics, optimizer=optimizer, device=device, verbose=False)\n",
    "    valid_epoch = smp.utils.train.ValidEpoch(model, loss=loss, metrics=metrics, device=device, verbose=False)\n",
    "    # train model\n",
    "    best_score = 0\n",
    "    date_time = datetime.now().strftime(\"%d_%m_%Y-%H_%M\")\n",
    "    for epoch in range(0, num_epochs):\n",
    "        train_logs = train_epoch.run(train_loader)\n",
    "        valid_logs = valid_epoch.run(valid_loader)\n",
    "        # save checkpoint with Ray Tune\n",
    "        if best_score < valid_logs['iou_score']:\n",
    "            with tune.checkpoint_dir(step=epoch) as checkpoint_dir:\n",
    "                ckpt_path = os.path.join(checkpoint_dir,'..',\"best_model.ckpt\")\n",
    "                torch.save((model.state_dict(), optimizer.state_dict()), ckpt_path)\n",
    "        \n",
    "        tune.report(loss=valid_logs['dice_loss'], score=valid_logs['iou_score'])\n",
    "    print(\"Finished Training !\")"
   ]
  },
  {
   "cell_type": "markdown",
   "metadata": {},
   "source": [
    "# Configure Search space"
   ]
  },
  {
   "cell_type": "code",
   "execution_count": 35,
   "metadata": {},
   "outputs": [],
   "source": [
    "# DO a sampling not a grid\n",
    "search_space = {\n",
    "    \"lr\":           tune.loguniform(1e-4, 1e-1),\n",
    "    \"batch_size\":   tune.choice([2, 8, 16]), # 32 and 64 ==> CUDA out of memory\n",
    "    \"momentum\":     tune.sample_from(lambda spec: 1-loguniform(1e-4, 1e-1)),\n",
    "    \"weight_decay\": tune.loguniform(1e-5, 1e1),\n",
    "    \"nesterov\":     tune.choice([True,False])\n",
    "}"
   ]
  },
  {
   "cell_type": "markdown",
   "metadata": {},
   "source": [
    "# Scheduler"
   ]
  },
  {
   "cell_type": "code",
   "execution_count": 36,
   "metadata": {},
   "outputs": [],
   "source": [
    "# early stopping with asha\n",
    "scheduler = ASHAScheduler(metric=\"loss\", mode=\"min\", max_t=170, grace_period=50, reduction_factor=2)"
   ]
  },
  {
   "cell_type": "markdown",
   "metadata": {},
   "source": [
    "# Reporter"
   ]
  },
  {
   "cell_type": "code",
   "execution_count": 37,
   "metadata": {},
   "outputs": [],
   "source": [
    "reporter = JupyterNotebookReporter(overwrite=True, metric_columns=[\"loss\", \"iou_score\", \"training_iteration\"])"
   ]
  },
  {
   "cell_type": "markdown",
   "metadata": {},
   "source": [
    "# Main"
   ]
  },
  {
   "cell_type": "code",
   "execution_count": 40,
   "metadata": {},
   "outputs": [
    {
     "data": {
      "text/plain": [
       "{'node_ip_address': '10.18.4.222',\n",
       " 'raylet_ip_address': '10.18.4.222',\n",
       " 'redis_address': '10.18.4.222:6379',\n",
       " 'object_store_address': 'tcp://127.0.0.1:59583',\n",
       " 'raylet_socket_name': 'tcp://127.0.0.1:54499',\n",
       " 'webui_url': None,\n",
       " 'session_dir': 'C:\\\\Users\\\\gueganj\\\\AppData\\\\Local\\\\Temp\\\\ray\\\\session_2020-11-30_11-36-34_603144_4056',\n",
       " 'metrics_export_port': 54484}"
      ]
     },
     "execution_count": 40,
     "metadata": {},
     "output_type": "execute_result"
    }
   ],
   "source": [
    "# Uncomment this to enable distributed execution\n",
    "ray.init(num_cpus=8, num_gpus=2, include_dashboard=False) #address=\"auto\""
   ]
  },
  {
   "cell_type": "code",
   "execution_count": 41,
   "metadata": {},
   "outputs": [
    {
     "data": {
      "text/html": [
       "== Status ==<br>Memory usage on this node: 5.8/7.8 GiB<br>Using AsyncHyperBand: num_stopped=0\n",
       "Bracket: Iter 100.000: None | Iter 50.000: None<br>Resources requested: 0/1 CPUs, 0/0 GPUs, 0.0/1.22 GiB heap, 0.0/0.39 GiB objects<br>Result logdir: C:\\Users\\gueganj\\ray_results\\DEFAULT<br>Number of trials: 15 (2 ERROR, 13 PENDING)<br><table>\n",
       "<thead>\n",
       "<tr><th>Trial name         </th><th>status  </th><th>loc  </th><th style=\"text-align: right;\">  batch_size</th><th style=\"text-align: right;\">         lr</th><th style=\"text-align: right;\">  momentum</th><th>nesterov  </th><th style=\"text-align: right;\">  weight_decay</th></tr>\n",
       "</thead>\n",
       "<tbody>\n",
       "<tr><td>DEFAULT_ebdfe_00000</td><td>ERROR   </td><td>     </td><td style=\"text-align: right;\">           8</td><td style=\"text-align: right;\">0.0381339  </td><td style=\"text-align: right;\">  0.978726</td><td>False     </td><td style=\"text-align: right;\">   1.0657e-05 </td></tr>\n",
       "<tr><td>DEFAULT_ebdfe_00001</td><td>ERROR   </td><td>     </td><td style=\"text-align: right;\">           2</td><td style=\"text-align: right;\">0.000732811</td><td style=\"text-align: right;\">  0.997466</td><td>True      </td><td style=\"text-align: right;\">   0.00495455 </td></tr>\n",
       "<tr><td>DEFAULT_ebdfe_00002</td><td>PENDING </td><td>     </td><td style=\"text-align: right;\">          16</td><td style=\"text-align: right;\">0.00219919 </td><td style=\"text-align: right;\">  0.995286</td><td>False     </td><td style=\"text-align: right;\">   0.003692   </td></tr>\n",
       "<tr><td>DEFAULT_ebdfe_00003</td><td>PENDING </td><td>     </td><td style=\"text-align: right;\">          16</td><td style=\"text-align: right;\">0.011807   </td><td style=\"text-align: right;\">  0.999872</td><td>True      </td><td style=\"text-align: right;\">   0.0183513  </td></tr>\n",
       "<tr><td>DEFAULT_ebdfe_00004</td><td>PENDING </td><td>     </td><td style=\"text-align: right;\">           8</td><td style=\"text-align: right;\">0.00334003 </td><td style=\"text-align: right;\">  0.997464</td><td>False     </td><td style=\"text-align: right;\">   6.94012    </td></tr>\n",
       "<tr><td>DEFAULT_ebdfe_00005</td><td>PENDING </td><td>     </td><td style=\"text-align: right;\">           2</td><td style=\"text-align: right;\">0.0152094  </td><td style=\"text-align: right;\">  0.987368</td><td>True      </td><td style=\"text-align: right;\">   0.0123694  </td></tr>\n",
       "<tr><td>DEFAULT_ebdfe_00006</td><td>PENDING </td><td>     </td><td style=\"text-align: right;\">           2</td><td style=\"text-align: right;\">0.0010307  </td><td style=\"text-align: right;\">  0.99979 </td><td>False     </td><td style=\"text-align: right;\">   0.153913   </td></tr>\n",
       "<tr><td>DEFAULT_ebdfe_00007</td><td>PENDING </td><td>     </td><td style=\"text-align: right;\">           2</td><td style=\"text-align: right;\">0.0042229  </td><td style=\"text-align: right;\">  0.999865</td><td>True      </td><td style=\"text-align: right;\">   2.80399e-05</td></tr>\n",
       "<tr><td>DEFAULT_ebdfe_00008</td><td>PENDING </td><td>     </td><td style=\"text-align: right;\">          16</td><td style=\"text-align: right;\">0.0141598  </td><td style=\"text-align: right;\">  0.990327</td><td>True      </td><td style=\"text-align: right;\">   0.0140636  </td></tr>\n",
       "<tr><td>DEFAULT_ebdfe_00009</td><td>PENDING </td><td>     </td><td style=\"text-align: right;\">           8</td><td style=\"text-align: right;\">0.00218153 </td><td style=\"text-align: right;\">  0.999842</td><td>True      </td><td style=\"text-align: right;\">   0.294131   </td></tr>\n",
       "<tr><td>DEFAULT_ebdfe_00010</td><td>PENDING </td><td>     </td><td style=\"text-align: right;\">           2</td><td style=\"text-align: right;\">0.0012119  </td><td style=\"text-align: right;\">  0.999587</td><td>True      </td><td style=\"text-align: right;\">   4.92518    </td></tr>\n",
       "<tr><td>DEFAULT_ebdfe_00011</td><td>PENDING </td><td>     </td><td style=\"text-align: right;\">           2</td><td style=\"text-align: right;\">0.00463964 </td><td style=\"text-align: right;\">  0.998815</td><td>True      </td><td style=\"text-align: right;\">   9.67716e-05</td></tr>\n",
       "<tr><td>DEFAULT_ebdfe_00012</td><td>PENDING </td><td>     </td><td style=\"text-align: right;\">           2</td><td style=\"text-align: right;\">0.0226697  </td><td style=\"text-align: right;\">  0.965078</td><td>True      </td><td style=\"text-align: right;\">   5.27443    </td></tr>\n",
       "<tr><td>DEFAULT_ebdfe_00013</td><td>PENDING </td><td>     </td><td style=\"text-align: right;\">           8</td><td style=\"text-align: right;\">0.000215344</td><td style=\"text-align: right;\">  0.999429</td><td>True      </td><td style=\"text-align: right;\">   1.59146e-05</td></tr>\n",
       "<tr><td>DEFAULT_ebdfe_00014</td><td>PENDING </td><td>     </td><td style=\"text-align: right;\">           8</td><td style=\"text-align: right;\">0.0477267  </td><td style=\"text-align: right;\">  0.99987 </td><td>False     </td><td style=\"text-align: right;\">   0.0945108  </td></tr>\n",
       "</tbody>\n",
       "</table><br>Number of errored trials: 2<br><table>\n",
       "<thead>\n",
       "<tr><th>Trial name         </th><th style=\"text-align: right;\">  # failures</th><th>error file                                                                                                                                                               </th></tr>\n",
       "</thead>\n",
       "<tbody>\n",
       "<tr><td>DEFAULT_ebdfe_00000</td><td style=\"text-align: right;\">           1</td><td>C:\\Users\\gueganj\\ray_results\\DEFAULT\\DEFAULT_ebdfe_00000_0_batch_size=8,lr=0.038134,momentum=0.97873,nesterov=False,weight_decay=1.0657e-05_2020-11-30_11-36-36\\error.txt</td></tr>\n",
       "<tr><td>DEFAULT_ebdfe_00001</td><td style=\"text-align: right;\">           1</td><td>C:\\Users\\gueganj\\ray_results\\DEFAULT\\DEFAULT_ebdfe_00001_1_batch_size=2,lr=0.00073281,momentum=0.99747,nesterov=True,weight_decay=0.0049545_2020-11-30_11-36-42\\error.txt</td></tr>\n",
       "</tbody>\n",
       "</table><br>"
      ],
      "text/plain": [
       "<IPython.core.display.HTML object>"
      ]
     },
     "metadata": {},
     "output_type": "display_data"
    },
    {
     "ename": "KeyboardInterrupt",
     "evalue": "",
     "output_type": "error",
     "traceback": [
      "\u001b[1;31m---------------------------------------------------------------------------\u001b[0m",
      "\u001b[1;31mKeyboardInterrupt\u001b[0m                         Traceback (most recent call last)",
      "\u001b[1;32m<ipython-input-41-15a6e794b1ed>\u001b[0m in \u001b[0;36m<module>\u001b[1;34m\u001b[0m\n\u001b[0;32m      3\u001b[0m     result = tune.run(partial(train_function, pretrained=pretrained, num_epochs=num_epochs, input_size=input_size), \n\u001b[0;32m      4\u001b[0m                       \u001b[0mconfig\u001b[0m\u001b[1;33m=\u001b[0m\u001b[0msearch_space\u001b[0m\u001b[1;33m,\u001b[0m \u001b[0mnum_samples\u001b[0m\u001b[1;33m=\u001b[0m\u001b[0mnum_samples\u001b[0m\u001b[1;33m,\u001b[0m \u001b[0mresources_per_trial\u001b[0m\u001b[1;33m=\u001b[0m\u001b[1;33m{\u001b[0m\u001b[1;34m\"cpu\"\u001b[0m\u001b[1;33m:\u001b[0m \u001b[1;36m1\u001b[0m\u001b[1;33m,\u001b[0m \u001b[1;34m\"gpu\"\u001b[0m\u001b[1;33m:\u001b[0m \u001b[1;36m0\u001b[0m\u001b[1;33m}\u001b[0m\u001b[1;33m,\u001b[0m\u001b[1;33m\u001b[0m\u001b[1;33m\u001b[0m\u001b[0m\n\u001b[1;32m----> 5\u001b[1;33m                       verbose=1, scheduler=scheduler)\n\u001b[0m\u001b[0;32m      6\u001b[0m     \u001b[0mbest_trial\u001b[0m \u001b[1;33m=\u001b[0m \u001b[0mresult\u001b[0m\u001b[1;33m.\u001b[0m\u001b[0mget_best_trial\u001b[0m\u001b[1;33m(\u001b[0m\u001b[1;34m\"loss\"\u001b[0m\u001b[1;33m,\u001b[0m \u001b[1;34m\"min\"\u001b[0m\u001b[1;33m,\u001b[0m \u001b[1;34m\"last\"\u001b[0m\u001b[1;33m)\u001b[0m\u001b[1;33m\u001b[0m\u001b[1;33m\u001b[0m\u001b[0m\n\u001b[0;32m      7\u001b[0m     \u001b[0mprint\u001b[0m\u001b[1;33m(\u001b[0m\u001b[1;34m\"Best trial config: {}\"\u001b[0m\u001b[1;33m.\u001b[0m\u001b[0mformat\u001b[0m\u001b[1;33m(\u001b[0m\u001b[0mbest_trial\u001b[0m\u001b[1;33m.\u001b[0m\u001b[0mconfig\u001b[0m\u001b[1;33m)\u001b[0m\u001b[1;33m)\u001b[0m\u001b[1;33m\u001b[0m\u001b[1;33m\u001b[0m\u001b[0m\n",
      "\u001b[1;32m~\\Miniconda3\\envs\\pytorch_env\\lib\\site-packages\\ray\\tune\\tune.py\u001b[0m in \u001b[0;36mrun\u001b[1;34m(run_or_experiment, name, metric, mode, stop, time_budget_s, config, resources_per_trial, num_samples, local_dir, search_alg, scheduler, keep_checkpoints_num, checkpoint_score_attr, checkpoint_freq, checkpoint_at_end, verbose, progress_reporter, loggers, log_to_file, trial_name_creator, trial_dirname_creator, sync_config, export_formats, max_failures, fail_fast, restore, server_port, resume, queue_trials, reuse_actors, trial_executor, raise_on_failed_trial, ray_auto_init, run_errored_only, global_checkpoint_period, with_server, upload_dir, sync_to_cloud, sync_to_driver, sync_on_checkpoint)\u001b[0m\n\u001b[0;32m    403\u001b[0m \u001b[1;33m\u001b[0m\u001b[0m\n\u001b[0;32m    404\u001b[0m     \u001b[1;32mwhile\u001b[0m \u001b[1;32mnot\u001b[0m \u001b[0mrunner\u001b[0m\u001b[1;33m.\u001b[0m\u001b[0mis_finished\u001b[0m\u001b[1;33m(\u001b[0m\u001b[1;33m)\u001b[0m\u001b[1;33m:\u001b[0m\u001b[1;33m\u001b[0m\u001b[1;33m\u001b[0m\u001b[0m\n\u001b[1;32m--> 405\u001b[1;33m         \u001b[0mrunner\u001b[0m\u001b[1;33m.\u001b[0m\u001b[0mstep\u001b[0m\u001b[1;33m(\u001b[0m\u001b[1;33m)\u001b[0m\u001b[1;33m\u001b[0m\u001b[1;33m\u001b[0m\u001b[0m\n\u001b[0m\u001b[0;32m    406\u001b[0m         \u001b[1;32mif\u001b[0m \u001b[0mverbose\u001b[0m\u001b[1;33m:\u001b[0m\u001b[1;33m\u001b[0m\u001b[1;33m\u001b[0m\u001b[0m\n\u001b[0;32m    407\u001b[0m             \u001b[0m_report_progress\u001b[0m\u001b[1;33m(\u001b[0m\u001b[0mrunner\u001b[0m\u001b[1;33m,\u001b[0m \u001b[0mprogress_reporter\u001b[0m\u001b[1;33m)\u001b[0m\u001b[1;33m\u001b[0m\u001b[1;33m\u001b[0m\u001b[0m\n",
      "\u001b[1;32m~\\Miniconda3\\envs\\pytorch_env\\lib\\site-packages\\ray\\tune\\trial_runner.py\u001b[0m in \u001b[0;36mstep\u001b[1;34m(self)\u001b[0m\n\u001b[0;32m    373\u001b[0m                 \u001b[0mself\u001b[0m\u001b[1;33m.\u001b[0m\u001b[0mtrial_executor\u001b[0m\u001b[1;33m.\u001b[0m\u001b[0mstart_trial\u001b[0m\u001b[1;33m(\u001b[0m\u001b[0mnext_trial\u001b[0m\u001b[1;33m)\u001b[0m\u001b[1;33m\u001b[0m\u001b[1;33m\u001b[0m\u001b[0m\n\u001b[0;32m    374\u001b[0m         \u001b[1;32melif\u001b[0m \u001b[0mself\u001b[0m\u001b[1;33m.\u001b[0m\u001b[0mtrial_executor\u001b[0m\u001b[1;33m.\u001b[0m\u001b[0mget_running_trials\u001b[0m\u001b[1;33m(\u001b[0m\u001b[1;33m)\u001b[0m\u001b[1;33m:\u001b[0m\u001b[1;33m\u001b[0m\u001b[1;33m\u001b[0m\u001b[0m\n\u001b[1;32m--> 375\u001b[1;33m             \u001b[0mself\u001b[0m\u001b[1;33m.\u001b[0m\u001b[0m_process_events\u001b[0m\u001b[1;33m(\u001b[0m\u001b[1;33m)\u001b[0m  \u001b[1;31m# blocking\u001b[0m\u001b[1;33m\u001b[0m\u001b[1;33m\u001b[0m\u001b[0m\n\u001b[0m\u001b[0;32m    376\u001b[0m         \u001b[1;32melse\u001b[0m\u001b[1;33m:\u001b[0m\u001b[1;33m\u001b[0m\u001b[1;33m\u001b[0m\u001b[0m\n\u001b[0;32m    377\u001b[0m             \u001b[0mself\u001b[0m\u001b[1;33m.\u001b[0m\u001b[0mtrial_executor\u001b[0m\u001b[1;33m.\u001b[0m\u001b[0mon_no_available_trials\u001b[0m\u001b[1;33m(\u001b[0m\u001b[0mself\u001b[0m\u001b[1;33m)\u001b[0m\u001b[1;33m\u001b[0m\u001b[1;33m\u001b[0m\u001b[0m\n",
      "\u001b[1;32m~\\Miniconda3\\envs\\pytorch_env\\lib\\site-packages\\ray\\tune\\trial_runner.py\u001b[0m in \u001b[0;36m_process_events\u001b[1;34m(self)\u001b[0m\n\u001b[0;32m    473\u001b[0m             \u001b[1;31m# TODO(ujvl): Consider combining get_next_available_trial and\u001b[0m\u001b[1;33m\u001b[0m\u001b[1;33m\u001b[0m\u001b[1;33m\u001b[0m\u001b[0m\n\u001b[0;32m    474\u001b[0m             \u001b[1;31m#  fetch_result functionality so that we don't timeout on fetch.\u001b[0m\u001b[1;33m\u001b[0m\u001b[1;33m\u001b[0m\u001b[1;33m\u001b[0m\u001b[0m\n\u001b[1;32m--> 475\u001b[1;33m             \u001b[0mtrial\u001b[0m \u001b[1;33m=\u001b[0m \u001b[0mself\u001b[0m\u001b[1;33m.\u001b[0m\u001b[0mtrial_executor\u001b[0m\u001b[1;33m.\u001b[0m\u001b[0mget_next_available_trial\u001b[0m\u001b[1;33m(\u001b[0m\u001b[1;33m)\u001b[0m  \u001b[1;31m# blocking\u001b[0m\u001b[1;33m\u001b[0m\u001b[1;33m\u001b[0m\u001b[0m\n\u001b[0m\u001b[0;32m    476\u001b[0m             \u001b[1;32mif\u001b[0m \u001b[0mtrial\u001b[0m\u001b[1;33m.\u001b[0m\u001b[0mis_restoring\u001b[0m\u001b[1;33m:\u001b[0m\u001b[1;33m\u001b[0m\u001b[1;33m\u001b[0m\u001b[0m\n\u001b[0;32m    477\u001b[0m                 \u001b[1;32mwith\u001b[0m \u001b[0mwarn_if_slow\u001b[0m\u001b[1;33m(\u001b[0m\u001b[1;34m\"process_trial_restore\"\u001b[0m\u001b[1;33m)\u001b[0m\u001b[1;33m:\u001b[0m\u001b[1;33m\u001b[0m\u001b[1;33m\u001b[0m\u001b[0m\n",
      "\u001b[1;32m~\\Miniconda3\\envs\\pytorch_env\\lib\\site-packages\\ray\\tune\\ray_trial_executor.py\u001b[0m in \u001b[0;36mget_next_available_trial\u001b[1;34m(self)\u001b[0m\n\u001b[0;32m    461\u001b[0m         \u001b[1;31m# See https://github.com/ray-project/ray/issues/4211 for details.\u001b[0m\u001b[1;33m\u001b[0m\u001b[1;33m\u001b[0m\u001b[1;33m\u001b[0m\u001b[0m\n\u001b[0;32m    462\u001b[0m         \u001b[0mstart\u001b[0m \u001b[1;33m=\u001b[0m \u001b[0mtime\u001b[0m\u001b[1;33m.\u001b[0m\u001b[0mtime\u001b[0m\u001b[1;33m(\u001b[0m\u001b[1;33m)\u001b[0m\u001b[1;33m\u001b[0m\u001b[1;33m\u001b[0m\u001b[0m\n\u001b[1;32m--> 463\u001b[1;33m         \u001b[1;33m[\u001b[0m\u001b[0mresult_id\u001b[0m\u001b[1;33m]\u001b[0m\u001b[1;33m,\u001b[0m \u001b[0m_\u001b[0m \u001b[1;33m=\u001b[0m \u001b[0mray\u001b[0m\u001b[1;33m.\u001b[0m\u001b[0mwait\u001b[0m\u001b[1;33m(\u001b[0m\u001b[0mshuffled_results\u001b[0m\u001b[1;33m)\u001b[0m\u001b[1;33m\u001b[0m\u001b[1;33m\u001b[0m\u001b[0m\n\u001b[0m\u001b[0;32m    464\u001b[0m         \u001b[0mwait_time\u001b[0m \u001b[1;33m=\u001b[0m \u001b[0mtime\u001b[0m\u001b[1;33m.\u001b[0m\u001b[0mtime\u001b[0m\u001b[1;33m(\u001b[0m\u001b[1;33m)\u001b[0m \u001b[1;33m-\u001b[0m \u001b[0mstart\u001b[0m\u001b[1;33m\u001b[0m\u001b[1;33m\u001b[0m\u001b[0m\n\u001b[0;32m    465\u001b[0m         \u001b[1;32mif\u001b[0m \u001b[0mwait_time\u001b[0m \u001b[1;33m>\u001b[0m \u001b[0mNONTRIVIAL_WAIT_TIME_THRESHOLD_S\u001b[0m\u001b[1;33m:\u001b[0m\u001b[1;33m\u001b[0m\u001b[1;33m\u001b[0m\u001b[0m\n",
      "\u001b[1;32m~\\Miniconda3\\envs\\pytorch_env\\lib\\site-packages\\ray\\worker.py\u001b[0m in \u001b[0;36mwait\u001b[1;34m(object_refs, num_returns, timeout)\u001b[0m\n\u001b[0;32m   1556\u001b[0m             \u001b[0mnum_returns\u001b[0m\u001b[1;33m,\u001b[0m\u001b[1;33m\u001b[0m\u001b[1;33m\u001b[0m\u001b[0m\n\u001b[0;32m   1557\u001b[0m             \u001b[0mtimeout_milliseconds\u001b[0m\u001b[1;33m,\u001b[0m\u001b[1;33m\u001b[0m\u001b[1;33m\u001b[0m\u001b[0m\n\u001b[1;32m-> 1558\u001b[1;33m             \u001b[0mworker\u001b[0m\u001b[1;33m.\u001b[0m\u001b[0mcurrent_task_id\u001b[0m\u001b[1;33m,\u001b[0m\u001b[1;33m\u001b[0m\u001b[1;33m\u001b[0m\u001b[0m\n\u001b[0m\u001b[0;32m   1559\u001b[0m         )\n\u001b[0;32m   1560\u001b[0m         \u001b[1;32mreturn\u001b[0m \u001b[0mready_ids\u001b[0m\u001b[1;33m,\u001b[0m \u001b[0mremaining_ids\u001b[0m\u001b[1;33m\u001b[0m\u001b[1;33m\u001b[0m\u001b[0m\n",
      "\u001b[1;32mpython\\ray\\_raylet.pyx\u001b[0m in \u001b[0;36mray._raylet.CoreWorker.wait\u001b[1;34m()\u001b[0m\n",
      "\u001b[1;32mpython\\ray\\_raylet.pyx\u001b[0m in \u001b[0;36mray._raylet.check_status\u001b[1;34m()\u001b[0m\n",
      "\u001b[1;31mKeyboardInterrupt\u001b[0m: "
     ]
    },
    {
     "name": "stderr",
     "output_type": "stream",
     "text": [
      "\u001b[2m\u001b[36m(pid=19804)\u001b[0m 2020-11-30 11:37:22,810\tERROR function_runner.py:233 -- Runner Thread raised error.\n",
      "\u001b[2m\u001b[36m(pid=19804)\u001b[0m Traceback (most recent call last):\n",
      "\u001b[2m\u001b[36m(pid=19804)\u001b[0m   File \"C:\\Users\\gueganj\\Miniconda3\\envs\\pytorch_env\\lib\\site-packages\\ray\\tune\\function_runner.py\", line 227, in run\n",
      "\u001b[2m\u001b[36m(pid=19804)\u001b[0m     self._entrypoint()\n",
      "\u001b[2m\u001b[36m(pid=19804)\u001b[0m   File \"C:\\Users\\gueganj\\Miniconda3\\envs\\pytorch_env\\lib\\site-packages\\ray\\tune\\function_runner.py\", line 290, in entrypoint\n",
      "\u001b[2m\u001b[36m(pid=19804)\u001b[0m     self._status_reporter.get_checkpoint())\n",
      "\u001b[2m\u001b[36m(pid=19804)\u001b[0m   File \"C:\\Users\\gueganj\\Miniconda3\\envs\\pytorch_env\\lib\\site-packages\\ray\\tune\\function_runner.py\", line 497, in _trainable_func\n",
      "\u001b[2m\u001b[36m(pid=19804)\u001b[0m     output = train_func(config)\n",
      "\u001b[2m\u001b[36m(pid=19804)\u001b[0m   File \"<ipython-input-34-617ec5f77356>\", line 38, in train_function\n",
      "\u001b[2m\u001b[36m(pid=19804)\u001b[0m   File \"C:\\Users\\gueganj\\Miniconda3\\envs\\pytorch_env\\lib\\site-packages\\segmentation_models_pytorch\\utils\\train.py\", line 45, in run\n",
      "\u001b[2m\u001b[36m(pid=19804)\u001b[0m     for x, y in iterator:\n",
      "\u001b[2m\u001b[36m(pid=19804)\u001b[0m   File \"C:\\Users\\gueganj\\Miniconda3\\envs\\pytorch_env\\lib\\site-packages\\tqdm\\std.py\", line 1108, in __iter__\n",
      "\u001b[2m\u001b[36m(pid=19804)\u001b[0m     for obj in iterable:\n",
      "\u001b[2m\u001b[36m(pid=19804)\u001b[0m   File \"C:\\Users\\gueganj\\Miniconda3\\envs\\pytorch_env\\lib\\site-packages\\torch\\utils\\data\\dataloader.py\", line 363, in __next__\n",
      "\u001b[2m\u001b[36m(pid=19804)\u001b[0m     data = self._next_data()\n",
      "\u001b[2m\u001b[36m(pid=19804)\u001b[0m   File \"C:\\Users\\gueganj\\Miniconda3\\envs\\pytorch_env\\lib\\site-packages\\torch\\utils\\data\\dataloader.py\", line 403, in _next_data\n",
      "\u001b[2m\u001b[36m(pid=19804)\u001b[0m     data = self._dataset_fetcher.fetch(index)  # may raise StopIteration\n",
      "\u001b[2m\u001b[36m(pid=19804)\u001b[0m   File \"C:\\Users\\gueganj\\Miniconda3\\envs\\pytorch_env\\lib\\site-packages\\torch\\utils\\data\\_utils\\fetch.py\", line 47, in fetch\n",
      "\u001b[2m\u001b[36m(pid=19804)\u001b[0m     return self.collate_fn(data)\n",
      "\u001b[2m\u001b[36m(pid=19804)\u001b[0m   File \"C:\\Users\\gueganj\\Miniconda3\\envs\\pytorch_env\\lib\\site-packages\\torch\\utils\\data\\_utils\\collate.py\", line 84, in default_collate\n",
      "\u001b[2m\u001b[36m(pid=19804)\u001b[0m     return [default_collate(samples) for samples in transposed]\n",
      "\u001b[2m\u001b[36m(pid=19804)\u001b[0m   File \"C:\\Users\\gueganj\\Miniconda3\\envs\\pytorch_env\\lib\\site-packages\\torch\\utils\\data\\_utils\\collate.py\", line 84, in <listcomp>\n",
      "\u001b[2m\u001b[36m(pid=19804)\u001b[0m     return [default_collate(samples) for samples in transposed]\n",
      "\u001b[2m\u001b[36m(pid=19804)\u001b[0m   File \"C:\\Users\\gueganj\\Miniconda3\\envs\\pytorch_env\\lib\\site-packages\\torch\\utils\\data\\_utils\\collate.py\", line 64, in default_collate\n",
      "\u001b[2m\u001b[36m(pid=19804)\u001b[0m     return default_collate([torch.as_tensor(b) for b in batch])\n",
      "\u001b[2m\u001b[36m(pid=19804)\u001b[0m   File \"C:\\Users\\gueganj\\Miniconda3\\envs\\pytorch_env\\lib\\site-packages\\torch\\utils\\data\\_utils\\collate.py\", line 55, in default_collate\n",
      "\u001b[2m\u001b[36m(pid=19804)\u001b[0m     return torch.stack(batch, 0, out=out)\n",
      "\u001b[2m\u001b[36m(pid=19804)\u001b[0m RuntimeError: stack expects each tensor to be equal size, but got [1, 544, 960] at entry 0 and [3, 544, 960] at entry 3\n",
      "\u001b[2m\u001b[36m(pid=19804)\u001b[0m Exception in thread Thread-2:\n",
      "\u001b[2m\u001b[36m(pid=19804)\u001b[0m Traceback (most recent call last):\n",
      "\u001b[2m\u001b[36m(pid=19804)\u001b[0m   File \"C:\\Users\\gueganj\\Miniconda3\\envs\\pytorch_env\\lib\\threading.py\", line 926, in _bootstrap_inner\n",
      "\u001b[2m\u001b[36m(pid=19804)\u001b[0m     self.run()\n",
      "\u001b[2m\u001b[36m(pid=19804)\u001b[0m   File \"C:\\Users\\gueganj\\Miniconda3\\envs\\pytorch_env\\lib\\site-packages\\ray\\tune\\function_runner.py\", line 246, in run\n",
      "\u001b[2m\u001b[36m(pid=19804)\u001b[0m     raise e\n",
      "\u001b[2m\u001b[36m(pid=19804)\u001b[0m   File \"C:\\Users\\gueganj\\Miniconda3\\envs\\pytorch_env\\lib\\site-packages\\ray\\tune\\function_runner.py\", line 227, in run\n",
      "\u001b[2m\u001b[36m(pid=19804)\u001b[0m     self._entrypoint()\n",
      "\u001b[2m\u001b[36m(pid=19804)\u001b[0m   File \"C:\\Users\\gueganj\\Miniconda3\\envs\\pytorch_env\\lib\\site-packages\\ray\\tune\\function_runner.py\", line 290, in entrypoint\n",
      "\u001b[2m\u001b[36m(pid=19804)\u001b[0m     self._status_reporter.get_checkpoint())\n",
      "\u001b[2m\u001b[36m(pid=19804)\u001b[0m   File \"C:\\Users\\gueganj\\Miniconda3\\envs\\pytorch_env\\lib\\site-packages\\ray\\tune\\function_runner.py\", line 497, in _trainable_func\n",
      "\u001b[2m\u001b[36m(pid=19804)\u001b[0m     output = train_func(config)\n",
      "\u001b[2m\u001b[36m(pid=19804)\u001b[0m   File \"<ipython-input-34-617ec5f77356>\", line 38, in train_function\n",
      "\u001b[2m\u001b[36m(pid=19804)\u001b[0m   File \"C:\\Users\\gueganj\\Miniconda3\\envs\\pytorch_env\\lib\\site-packages\\segmentation_models_pytorch\\utils\\train.py\", line 45, in run\n",
      "\u001b[2m\u001b[36m(pid=19804)\u001b[0m     for x, y in iterator:\n",
      "\u001b[2m\u001b[36m(pid=19804)\u001b[0m   File \"C:\\Users\\gueganj\\Miniconda3\\envs\\pytorch_env\\lib\\site-packages\\tqdm\\std.py\", line 1108, in __iter__\n",
      "\u001b[2m\u001b[36m(pid=19804)\u001b[0m     for obj in iterable:\n",
      "\u001b[2m\u001b[36m(pid=19804)\u001b[0m   File \"C:\\Users\\gueganj\\Miniconda3\\envs\\pytorch_env\\lib\\site-packages\\torch\\utils\\data\\dataloader.py\", line 363, in __next__\n",
      "\u001b[2m\u001b[36m(pid=19804)\u001b[0m     data = self._next_data()\n",
      "\u001b[2m\u001b[36m(pid=19804)\u001b[0m   File \"C:\\Users\\gueganj\\Miniconda3\\envs\\pytorch_env\\lib\\site-packages\\torch\\utils\\data\\dataloader.py\", line 403, in _next_data\n",
      "\u001b[2m\u001b[36m(pid=19804)\u001b[0m     data = self._dataset_fetcher.fetch(index)  # may raise StopIteration\n",
      "\u001b[2m\u001b[36m(pid=19804)\u001b[0m   File \"C:\\Users\\gueganj\\Miniconda3\\envs\\pytorch_env\\lib\\site-packages\\torch\\utils\\data\\_utils\\fetch.py\", line 47, in fetch\n",
      "\u001b[2m\u001b[36m(pid=19804)\u001b[0m     return self.collate_fn(data)\n",
      "\u001b[2m\u001b[36m(pid=19804)\u001b[0m   File \"C:\\Users\\gueganj\\Miniconda3\\envs\\pytorch_env\\lib\\site-packages\\torch\\utils\\data\\_utils\\collate.py\", line 84, in default_collate\n",
      "\u001b[2m\u001b[36m(pid=19804)\u001b[0m     return [default_collate(samples) for samples in transposed]\n",
      "\u001b[2m\u001b[36m(pid=19804)\u001b[0m   File \"C:\\Users\\gueganj\\Miniconda3\\envs\\pytorch_env\\lib\\site-packages\\torch\\utils\\data\\_utils\\collate.py\", line 84, in <listcomp>\n",
      "\u001b[2m\u001b[36m(pid=19804)\u001b[0m     return [default_collate(samples) for samples in transposed]\n",
      "\u001b[2m\u001b[36m(pid=19804)\u001b[0m   File \"C:\\Users\\gueganj\\Miniconda3\\envs\\pytorch_env\\lib\\site-packages\\torch\\utils\\data\\_utils\\collate.py\", line 64, in default_collate\n",
      "\u001b[2m\u001b[36m(pid=19804)\u001b[0m     return default_collate([torch.as_tensor(b) for b in batch])\n",
      "\u001b[2m\u001b[36m(pid=19804)\u001b[0m   File \"C:\\Users\\gueganj\\Miniconda3\\envs\\pytorch_env\\lib\\site-packages\\torch\\utils\\data\\_utils\\collate.py\", line 55, in default_collate\n",
      "\u001b[2m\u001b[36m(pid=19804)\u001b[0m     return torch.stack(batch, 0, out=out)\n",
      "\u001b[2m\u001b[36m(pid=19804)\u001b[0m RuntimeError: stack expects each tensor to be equal size, but got [1, 544, 960] at entry 0 and [3, 544, 960] at entry 3\n",
      "\u001b[2m\u001b[36m(pid=19804)\u001b[0m \n",
      "2020-11-30 11:37:27,951\tERROR worker.py:1018 -- Possible unhandled error from worker: \u001b[36mray::ImplicitFunc.train()\u001b[39m (pid=19804, ip=10.18.4.222)\n",
      "  File \"python\\ray\\_raylet.pyx\", line 484, in ray._raylet.execute_task\n",
      "  File \"python\\ray\\_raylet.pyx\", line 438, in ray._raylet.execute_task.function_executor\n",
      "  File \"C:\\Users\\gueganj\\Miniconda3\\envs\\pytorch_env\\lib\\site-packages\\ray\\function_manager.py\", line 553, in actor_method_executor\n",
      "    return method(actor, *args, **kwargs)\n",
      "  File \"C:\\Users\\gueganj\\Miniconda3\\envs\\pytorch_env\\lib\\site-packages\\ray\\tune\\trainable.py\", line 336, in train\n",
      "    result = self.step()\n",
      "  File \"C:\\Users\\gueganj\\Miniconda3\\envs\\pytorch_env\\lib\\site-packages\\ray\\tune\\function_runner.py\", line 340, in step\n",
      "    self._report_thread_runner_error(block=True)\n",
      "  File \"C:\\Users\\gueganj\\Miniconda3\\envs\\pytorch_env\\lib\\site-packages\\ray\\tune\\function_runner.py\", line 459, in _report_thread_runner_error\n",
      "    .format(err_tb_str)))\n",
      "ray.tune.error.TuneError: Trial raised an exception. Traceback:\n",
      "\u001b[36mray::ImplicitFunc.train()\u001b[39m (pid=19804, ip=10.18.4.222)\n",
      "  File \"C:\\Users\\gueganj\\Miniconda3\\envs\\pytorch_env\\lib\\site-packages\\ray\\tune\\function_runner.py\", line 227, in run\n",
      "    self._entrypoint()\n",
      "  File \"C:\\Users\\gueganj\\Miniconda3\\envs\\pytorch_env\\lib\\site-packages\\ray\\tune\\function_runner.py\", line 290, in entrypoint\n",
      "    self._status_reporter.get_checkpoint())\n",
      "  File \"C:\\Users\\gueganj\\Miniconda3\\envs\\pytorch_env\\lib\\site-packages\\ray\\tune\\function_runner.py\", line 497, in _trainable_func\n",
      "    output = train_func(config)\n",
      "  File \"<ipython-input-34-617ec5f77356>\", line 38, in train_function\n",
      "  File \"C:\\Users\\gueganj\\Miniconda3\\envs\\pytorch_env\\lib\\site-packages\\segmentation_models_pytorch\\utils\\train.py\", line 45, in run\n",
      "    for x, y in iterator:\n",
      "  File \"C:\\Users\\gueganj\\Miniconda3\\envs\\pytorch_env\\lib\\site-packages\\tqdm\\std.py\", line 1108, in __iter__\n",
      "    for obj in iterable:\n",
      "  File \"C:\\Users\\gueganj\\Miniconda3\\envs\\pytorch_env\\lib\\site-packages\\torch\\utils\\data\\dataloader.py\", line 363, in __next__\n",
      "    data = self._next_data()\n",
      "  File \"C:\\Users\\gueganj\\Miniconda3\\envs\\pytorch_env\\lib\\site-packages\\torch\\utils\\data\\dataloader.py\", line 403, in _next_data\n",
      "    data = self._dataset_fetcher.fetch(index)  # may raise StopIteration\n",
      "  File \"C:\\Users\\gueganj\\Miniconda3\\envs\\pytorch_env\\lib\\site-packages\\torch\\utils\\data\\_utils\\fetch.py\", line 47, in fetch\n",
      "    return self.collate_fn(data)\n",
      "  File \"C:\\Users\\gueganj\\Miniconda3\\envs\\pytorch_env\\lib\\site-packages\\torch\\utils\\data\\_utils\\collate.py\", line 84, in default_collate\n",
      "    return [default_collate(samples) for samples in transposed]\n",
      "  File \"C:\\Users\\gueganj\\Miniconda3\\envs\\pytorch_env\\lib\\site-packages\\torch\\utils\\data\\_utils\\collate.py\", line 84, in <listcomp>\n",
      "    return [default_collate(samples) for samples in transposed]\n",
      "  File \"C:\\Users\\gueganj\\Miniconda3\\envs\\pytorch_env\\lib\\site-packages\\torch\\utils\\data\\_utils\\collate.py\", line 64, in default_collate\n",
      "    return default_collate([torch.as_tensor(b) for b in batch])\n",
      "  File \"C:\\Users\\gueganj\\Miniconda3\\envs\\pytorch_env\\lib\\site-packages\\torch\\utils\\data\\_utils\\collate.py\", line 55, in default_collate\n",
      "    return torch.stack(batch, 0, out=out)\n",
      "RuntimeError: stack expects each tensor to be equal size, but got [1, 544, 960] at entry 0 and [3, 544, 960] at entry 3\n"
     ]
    }
   ],
   "source": [
    "num_samples = 15 # Number of times to sample from the hyperparameter space\n",
    "for model in [\"BiseNet\",\"HRNet\",\"DenseNet\",\"PSPNet\",\"DeepLabV3Plus\",\"UnetPlusPlus\"]:\n",
    "    result = tune.run(partial(train_function, model=model, num_epochs=num_epochs, input_size=input_size), \n",
    "                      config=search_space, num_samples=num_samples, resources_per_trial={\"cpu\": 4, \"gpu\": 1}, \n",
    "                      verbose=1, scheduler=scheduler, name=model+'_'+datetime.now().strftime(\"%d_%m_%Y-%H_%M\"))\n",
    "    best_trial = result.get_best_trial(\"loss\", \"min\", \"last\")\n",
    "    print(\"Best trial config: {}\".format(best_trial.config))\n",
    "    print(\"Best trial final validation loss: {}\".format(best_trial.last_result[\"loss\"]))\n",
    "    print(\"Best trial final validation accuracy: {}\".format(best_trial.last_result[\"accuracy\"]))"
   ]
  },
  {
   "cell_type": "code",
   "execution_count": null,
   "metadata": {},
   "outputs": [],
   "source": []
  }
 ],
 "metadata": {
  "kernelspec": {
   "display_name": "pytorch_env",
   "language": "python",
   "name": "pytorch_env"
  },
  "language_info": {
   "codemirror_mode": {
    "name": "ipython",
    "version": 3
   },
   "file_extension": ".py",
   "mimetype": "text/x-python",
   "name": "python",
   "nbconvert_exporter": "python",
   "pygments_lexer": "ipython3",
   "version": "3.7.9"
  },
  "toc": {
   "base_numbering": 1,
   "nav_menu": {},
   "number_sections": true,
   "sideBar": true,
   "skip_h1_title": false,
   "title_cell": "Table of Contents",
   "title_sidebar": "Contents",
   "toc_cell": false,
   "toc_position": {},
   "toc_section_display": true,
   "toc_window_display": false
  },
  "varInspector": {
   "cols": {
    "lenName": 16,
    "lenType": 16,
    "lenVar": 40
   },
   "kernels_config": {
    "python": {
     "delete_cmd_postfix": "",
     "delete_cmd_prefix": "del ",
     "library": "var_list.py",
     "varRefreshCmd": "print(var_dic_list())"
    },
    "r": {
     "delete_cmd_postfix": ") ",
     "delete_cmd_prefix": "rm(",
     "library": "var_list.r",
     "varRefreshCmd": "cat(var_dic_list()) "
    }
   },
   "types_to_exclude": [
    "module",
    "function",
    "builtin_function_or_method",
    "instance",
    "_Feature"
   ],
   "window_display": false
  }
 },
 "nbformat": 4,
 "nbformat_minor": 4
}
