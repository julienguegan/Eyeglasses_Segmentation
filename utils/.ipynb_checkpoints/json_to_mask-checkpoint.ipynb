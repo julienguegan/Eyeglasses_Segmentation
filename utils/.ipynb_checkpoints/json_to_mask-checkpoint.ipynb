{
 "cells": [
  {
   "cell_type": "code",
   "execution_count": 16,
   "metadata": {
    "ExecuteTime": {
     "end_time": "2020-10-16T13:40:11.089960Z",
     "start_time": "2020-10-16T13:40:06.912888Z"
    },
    "colab": {
     "base_uri": "https://localhost:8080/",
     "height": 81
    },
    "colab_type": "code",
    "id": "VCU2b8V3PRt3",
    "outputId": "9d56ff60-0fb4-41b4-99c6-0b751c147045"
   },
   "outputs": [],
   "source": [
    "import json\n",
    "import numpy as np\n",
    "import os\n",
    "import skimage.io\n",
    "import skimage.draw\n",
    "from PIL import Image\n",
    "import shutil\n",
    "import matplotlib.pyplot as plt\n",
    "import glob"
   ]
  },
  {
   "cell_type": "markdown",
   "metadata": {},
   "source": [
    "# Help class"
   ]
  },
  {
   "cell_type": "code",
   "execution_count": 17,
   "metadata": {},
   "outputs": [],
   "source": [
    "class Dataset(object):\n",
    "\n",
    "    def __init__(self, class_map=None):\n",
    "        self._image_ids = []\n",
    "        self.image_info = []\n",
    "        self.class_info = [{\"source\": \"\", \"id\": 0, \"name\": \"BG\"}]\n",
    "        self.source_class_ids = {}\n",
    "\n",
    "    def add_class(self, source, class_id, class_name):\n",
    "        assert \".\" not in source, \"Source name cannot contain a dot\"\n",
    "        # Does the class exist already?\n",
    "        for info in self.class_info:\n",
    "            if info['source'] == source and info[\"id\"] == class_id:\n",
    "                return\n",
    "        # Add the class\n",
    "        self.class_info.append({\"source\": source, \"id\": class_id, \"name\": class_name})\n",
    "\n",
    "    def add_image(self, source, image_id, path, **kwargs):\n",
    "        image_info = {\"id\": image_id, \"source\": source, \"path\": path}\n",
    "        image_info.update(kwargs)\n",
    "        self.image_info.append(image_info)\n",
    "        \n",
    "    def prepare(self, class_map=None):\n",
    "\n",
    "        def clean_name(name):\n",
    "            return \",\".join(name.split(\",\")[:1])\n",
    "\n",
    "        # Build (or rebuild) everything else from the info dicts.\n",
    "        self.num_classes = len(self.class_info)\n",
    "        self.class_ids = np.arange(self.num_classes)\n",
    "        self.class_names = [clean_name(c[\"name\"]) for c in self.class_info]\n",
    "        self.num_images = len(self.image_info)\n",
    "        self._image_ids = np.arange(self.num_images)\n",
    "\n",
    "        # Mapping from source class and image IDs to internal IDs\n",
    "        self.class_from_source_map = {\"{}.{}\".format(info['source'], info['id']): id for info, id in zip(self.class_info, self.class_ids)}\n",
    "        self.image_from_source_map = {\"{}.{}\".format(info['source'], info['id']): id for info, id in zip(self.image_info, self.image_ids)}\n",
    "\n",
    "        # Map sources to class_ids they support\n",
    "        self.sources = list(set([i['source'] for i in self.class_info]))\n",
    "        self.source_class_ids = {}\n",
    "        # Loop over datasets\n",
    "        for source in self.sources:\n",
    "            self.source_class_ids[source] = []\n",
    "            # Find classes that belong to this dataset\n",
    "            for i, info in enumerate(self.class_info):\n",
    "                # Include BG class in all datasets\n",
    "                if i == 0 or source == info['source']:\n",
    "                    self.source_class_ids[source].append(i)\n",
    "                    \n",
    "    @property\n",
    "    def image_ids(self):\n",
    "        return self._image_ids\n",
    "    \n",
    "    def load_image(self, image_id):\n",
    "        \"\"\"Load the specified image and return a [H,W,3] Numpy array.\n",
    "        \"\"\"\n",
    "        # Load image\n",
    "        image = skimage.io.imread(self.image_info[image_id]['path'])\n",
    "        # If grayscale. Convert to RGB for consistency.\n",
    "        if image.ndim != 3:\n",
    "            image = skimage.color.gray2rgb(image)\n",
    "        # If has an alpha channel, remove it for consistency\n",
    "        if image.shape[-1] == 4:\n",
    "            image = image[..., :3]\n",
    "        return image"
   ]
  },
  {
   "cell_type": "code",
   "execution_count": 18,
   "metadata": {
    "ExecuteTime": {
     "end_time": "2020-10-16T13:40:11.097868Z",
     "start_time": "2020-10-16T13:40:11.090884Z"
    }
   },
   "outputs": [],
   "source": [
    "class CustomDataset(Dataset):\n",
    "\n",
    "    def load_custom(self, dataset_dir, label_file):\n",
    "        \n",
    "        # Add classes. In binary,one foreground only one class to add.\n",
    "        self.add_class(\"eyeglasses\", 1, \"eyeglasses\")\n",
    "        # We mostly care about the x and y coordinates of each region\n",
    "        annotations1 = json.load(open(os.path.join(dataset_dir, label_file),'r',encoding=\"utf8\",errors='ignore'))\n",
    "        # don't need the dict keys\n",
    "        annotations = list(annotations1.values())  \n",
    "        # The VIA tool saves images in the JSON even if they don't have any  annotations. Skip unannotated images.\n",
    "        annotations = [a for a in annotations if a['regions']]\n",
    "        # Add images\n",
    "        for a in annotations:\n",
    "            # Get the x, y coordinaets of points of the polygons \n",
    "            polygons = [r['shape_attributes'] for r in a['regions']]\n",
    "            # load_mask() needs the image size to convert polygons to masks.\n",
    "            image_path = os.path.join(dataset_dir, a['filename']) \n",
    "            image = skimage.io.imread(image_path)\n",
    "            height, width = image.shape[:2]\n",
    "            self.add_image(\"eyeglasses\", image_id=a['filename'], path=image_path, width=width, height=height, polygons=polygons)\n",
    "            \n",
    "    def load_mask(self, image_id):\n",
    "        \"\"\"Generate instance masks for an image.\n",
    "        masks     : A bool array of shape [height, width, instance count] with one mask per instance.\n",
    "        class_ids : a 1D array of class IDs of the instance masks.\n",
    "        \"\"\"\n",
    "        # If not a balloon dataset image, delegate to parent class.\n",
    "        image_info = self.image_info[image_id]\n",
    "        if image_info[\"source\"] != \"eyeglasses\":\n",
    "            return super(self.__class__, self).load_mask(image_id)\n",
    "        # Convert polygons to a bitmap mask of shape [height, width, instance_count]\n",
    "        info = self.image_info[image_id]\n",
    "        mask = np.zeros([info[\"height\"], info[\"width\"], len(info[\"polygons\"])], dtype=np.uint8)\n",
    "        for i, p in enumerate(info[\"polygons\"]):\n",
    "            # Get indexes of pixels inside the polygon and set them to 1\n",
    "            rr, cc = skimage.draw.polygon(p['all_points_y'], p['all_points_x'])\n",
    "            mask[rr, cc, i] = 1\n",
    "        # Return mask, and array of class IDs of each instance. Since we have one class ID only, we return an array of 1s\n",
    "        return mask.astype(np.bool), np.ones([mask.shape[-1]], dtype=np.int32)\n",
    "    \n",
    "    def image_reference(self, image_id):\n",
    "        \"\"\"Return the path of the image.\"\"\"\n",
    "        info = self.image_info[image_id]\n",
    "        if info[\"source\"] == \"eyeglasses\":\n",
    "            return info[\"path\"]\n",
    "        else:\n",
    "            super(self.__class__, self).image_reference(image_id)"
   ]
  },
  {
   "cell_type": "markdown",
   "metadata": {
    "colab_type": "text",
    "id": "Brip97xRMWyE"
   },
   "source": [
    "# Read json"
   ]
  },
  {
   "cell_type": "code",
   "execution_count": 19,
   "metadata": {
    "ExecuteTime": {
     "end_time": "2020-10-16T13:41:57.168995Z",
     "start_time": "2020-10-16T13:41:57.147738Z"
    },
    "colab": {
     "base_uri": "https://localhost:8080/",
     "height": 86
    },
    "colab_type": "code",
    "id": "kHkHKiEjQQvH",
    "outputId": "3db3ca23-4d2e-4612-a950-46fbc19655aa"
   },
   "outputs": [],
   "source": [
    "# Load dataset\n",
    "dataset    = CustomDataset()\n",
    "data_dir   = \"C:\\\\Users\\\\gueganj\\\\Downloads\\\\\"\n",
    "label_file = \"via_project_3Feb2021_14h1m_json.json\"\n",
    "# place your json file inside train folder\n",
    "dataset.load_custom(data_dir,label_file)\n",
    "# Must call before using the dataset\n",
    "dataset.prepare()"
   ]
  },
  {
   "cell_type": "markdown",
   "metadata": {},
   "source": [
    "# Format and Save"
   ]
  },
  {
   "cell_type": "code",
   "execution_count": 20,
   "metadata": {
    "ExecuteTime": {
     "end_time": "2020-10-16T13:41:59.443059Z",
     "start_time": "2020-10-16T13:41:59.407187Z"
    },
    "colab": {},
    "colab_type": "code",
    "id": "PtEMCmSUU_xZ"
   },
   "outputs": [],
   "source": [
    "index      = dataset.image_ids\n",
    "for image_id in index:\n",
    "    image           = dataset.load_image(image_id)\n",
    "    mask, class_ids = dataset.load_mask(image_id)\n",
    "    # Pick top prominent classes in this image\n",
    "    unique_class_ids = np.unique(class_ids)\n",
    "    mask_area        = [np.sum(mask[:, :, np.where(class_ids == i)[0]]) for i in unique_class_ids]\n",
    "    top_ids          = [v[0] for v in sorted(zip(unique_class_ids, mask_area),key=lambda r: r[1], reverse=True) if v[1] > 0]\n",
    "    # Generate images and titles\n",
    "    for i in range(1):\n",
    "        class_id = top_ids[i] if i < len(top_ids) else -1\n",
    "        # Pull masks of instances belonging to the same class.\n",
    "        m = mask[:, :, np.where(class_ids == class_id)[0]]\n",
    "        m = np.sum(m * np.arange(1, m.shape[-1] +1), -1)\n",
    "        m[m>1] = 1\n",
    "        img = (255 * m).astype(np.uint8)\n",
    "        name_image = os.path.basename(dataset.image_info[image_id]['id']).replace('.jpg','').replace('.JPG','').replace('.png','')\n",
    "        plt.imsave(os.path.join(data_dir, name_image+'.png'), img, cmap='binary_r')"
   ]
  }
 ],
 "metadata": {
  "accelerator": "GPU",
  "colab": {
   "collapsed_sections": [],
   "name": "JSON_TO_MASK.ipynb",
   "provenance": []
  },
  "kernelspec": {
   "display_name": "Python [conda env:pytorch_env]",
   "language": "python",
   "name": "conda-env-pytorch_env-py"
  },
  "language_info": {
   "codemirror_mode": {
    "name": "ipython",
    "version": 3
   },
   "file_extension": ".py",
   "mimetype": "text/x-python",
   "name": "python",
   "nbconvert_exporter": "python",
   "pygments_lexer": "ipython3",
   "version": "3.7.9"
  },
  "toc": {
   "base_numbering": 1,
   "nav_menu": {},
   "number_sections": true,
   "sideBar": true,
   "skip_h1_title": false,
   "title_cell": "Table of Contents",
   "title_sidebar": "Contents",
   "toc_cell": false,
   "toc_position": {},
   "toc_section_display": true,
   "toc_window_display": false
  },
  "varInspector": {
   "cols": {
    "lenName": 16,
    "lenType": 16,
    "lenVar": 40
   },
   "kernels_config": {
    "python": {
     "delete_cmd_postfix": "",
     "delete_cmd_prefix": "del ",
     "library": "var_list.py",
     "varRefreshCmd": "print(var_dic_list())"
    },
    "r": {
     "delete_cmd_postfix": ") ",
     "delete_cmd_prefix": "rm(",
     "library": "var_list.r",
     "varRefreshCmd": "cat(var_dic_list()) "
    }
   },
   "types_to_exclude": [
    "module",
    "function",
    "builtin_function_or_method",
    "instance",
    "_Feature"
   ],
   "window_display": false
  }
 },
 "nbformat": 4,
 "nbformat_minor": 4
}
